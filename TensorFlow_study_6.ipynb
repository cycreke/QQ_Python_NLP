{
 "cells": [
  {
   "cell_type": "code",
   "execution_count": 1,
   "metadata": {},
   "outputs": [
    {
     "name": "stdout",
     "output_type": "stream",
     "text": [
      "WARNING:tensorflow:From <ipython-input-1-2a2f175cf364>:10: read_data_sets (from tensorflow.contrib.learn.python.learn.datasets.mnist) is deprecated and will be removed in a future version.\n",
      "Instructions for updating:\n",
      "Please use alternatives such as official/mnist/dataset.py from tensorflow/models.\n",
      "WARNING:tensorflow:From F:\\Anaconda\\envs\\image_nano\\lib\\site-packages\\tensorflow\\contrib\\learn\\python\\learn\\datasets\\mnist.py:260: maybe_download (from tensorflow.contrib.learn.python.learn.datasets.base) is deprecated and will be removed in a future version.\n",
      "Instructions for updating:\n",
      "Please write your own downloading logic.\n",
      "WARNING:tensorflow:From F:\\Anaconda\\envs\\image_nano\\lib\\site-packages\\tensorflow\\contrib\\learn\\python\\learn\\datasets\\base.py:252: _internal_retry.<locals>.wrap.<locals>.wrapped_fn (from tensorflow.contrib.learn.python.learn.datasets.base) is deprecated and will be removed in a future version.\n",
      "Instructions for updating:\n",
      "Please use urllib or similar directly.\n",
      "Successfully downloaded train-images-idx3-ubyte.gz 9912422 bytes.\n",
      "WARNING:tensorflow:From F:\\Anaconda\\envs\\image_nano\\lib\\site-packages\\tensorflow\\contrib\\learn\\python\\learn\\datasets\\mnist.py:262: extract_images (from tensorflow.contrib.learn.python.learn.datasets.mnist) is deprecated and will be removed in a future version.\n",
      "Instructions for updating:\n",
      "Please use tf.data to implement this functionality.\n",
      "Extracting MNIST_data\\train-images-idx3-ubyte.gz\n",
      "Successfully downloaded train-labels-idx1-ubyte.gz 28881 bytes.\n",
      "WARNING:tensorflow:From F:\\Anaconda\\envs\\image_nano\\lib\\site-packages\\tensorflow\\contrib\\learn\\python\\learn\\datasets\\mnist.py:267: extract_labels (from tensorflow.contrib.learn.python.learn.datasets.mnist) is deprecated and will be removed in a future version.\n",
      "Instructions for updating:\n",
      "Please use tf.data to implement this functionality.\n",
      "Extracting MNIST_data\\train-labels-idx1-ubyte.gz\n",
      "Successfully downloaded t10k-images-idx3-ubyte.gz 1648877 bytes.\n",
      "Extracting MNIST_data\\t10k-images-idx3-ubyte.gz\n",
      "Successfully downloaded t10k-labels-idx1-ubyte.gz 4542 bytes.\n",
      "Extracting MNIST_data\\t10k-labels-idx1-ubyte.gz\n",
      "WARNING:tensorflow:From F:\\Anaconda\\envs\\image_nano\\lib\\site-packages\\tensorflow\\contrib\\learn\\python\\learn\\datasets\\mnist.py:290: DataSet.__init__ (from tensorflow.contrib.learn.python.learn.datasets.mnist) is deprecated and will be removed in a future version.\n",
      "Instructions for updating:\n",
      "Please use alternatives such as official/mnist/dataset.py from tensorflow/models.\n"
     ]
    }
   ],
   "source": [
    "#TFRecords\n",
    "#is simply a binary file, containing serialized input data.\n",
    "\n",
    "from __future__ import print_function\n",
    "import os\n",
    "import tensorflow as tf\n",
    "from tensorflow.contrib.learn.python.learn.datasets import mnist\n",
    "save_dir = \"MNIST_data\"\n",
    "# Download data to save_dir\n",
    "data_sets = mnist.read_data_sets(save_dir,dtype=tf.uint8,reshape=False,validation_size=1000)"
   ]
  },
  {
   "cell_type": "code",
   "execution_count": 2,
   "metadata": {},
   "outputs": [
    {
     "name": "stdout",
     "output_type": "stream",
     "text": [
      "saving train\n",
      "saving test\n",
      "saving validation\n"
     ]
    }
   ],
   "source": [
    "data_splits = [\"train\",\"test\",\"validation\"]\n",
    "for d in range(len(data_splits)):\n",
    "    print(\"saving \" + data_splits[d])\n",
    "    data_set = data_sets[d]\n",
    "    filename = os.path.join(save_dir, data_splits[d] + '.tfrecords')\n",
    "    writer = tf.python_io.TFRecordWriter(filename)\n",
    "    for index in range(data_set.images.shape[0]):\n",
    "        #converting it from a NumPy array to a byte string\n",
    "        image = data_set.images[index].tostring()\n",
    "        '''\n",
    "         tf.train.Example is a structure for storing our data. An  Example object contains a  Features object,\n",
    "        which in turn contains a map from attribute name to a  Feature . \n",
    "        A  Feature can contain an  Int64List , a  BytesList , or a  FloatList (not used here)\n",
    "        '''\n",
    "        example = tf.train.Example(features=tf.train.Features(feature=\n",
    "                                {'height': tf.train.Feature(int64_list=tf.train.Int64List(value=[data_set.images.shape[1]])),\n",
    "                                 'width': tf.train.Feature(int64_list=tf.train.Int64List(value =[data_set.images.shape[2]])),\n",
    "                                 'depth': tf.train.Feature(int64_list=tf.train.Int64List(value =[data_set.images.shape[3]])),\n",
    "                                 'label': tf.train.Feature(int64_list=tf.train.Int64List(value =[int(data_set.labels[index])])),\n",
    "                                 'image_raw': tf.train.Feature(bytes_list=tf.train.BytesList(value =[image]))}))\n",
    "        writer.write(example.SerializeToString())\n",
    "    writer.close()"
   ]
  },
  {
   "cell_type": "code",
   "execution_count": null,
   "metadata": {},
   "outputs": [],
   "source": [
    "filename = os.path.join(save_dir, 'train.tfrecords')\n",
    "record_iterator = tf.python_io.tf_record_iterator(filename)\n",
    "seralized_img_example= next(record_iterator)"
   ]
  }
 ],
 "metadata": {
  "kernelspec": {
   "display_name": "Python 3",
   "language": "python",
   "name": "python3"
  },
  "language_info": {
   "codemirror_mode": {
    "name": "ipython",
    "version": 3
   },
   "file_extension": ".py",
   "mimetype": "text/x-python",
   "name": "python",
   "nbconvert_exporter": "python",
   "pygments_lexer": "ipython3",
   "version": "3.6.5"
  }
 },
 "nbformat": 4,
 "nbformat_minor": 2
}
